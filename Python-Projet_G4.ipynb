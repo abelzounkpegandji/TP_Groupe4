{
 "cells": [
  {
   "cell_type": "code",
   "execution_count": 4,
   "id": "discrete-documentation",
   "metadata": {},
   "outputs": [],
   "source": [
    "import re"
   ]
  },
  {
   "cell_type": "code",
   "execution_count": 5,
   "id": "professional-treaty",
   "metadata": {},
   "outputs": [
    {
     "name": "stdout",
     "output_type": "stream",
     "text": [
      "Entrer une chaine : sscsxxs1234 RB\n",
      "1234 RB est le seul numéro d'immatriculation présente dans la chaine.\n"
     ]
    }
   ],
   "source": [
    "def findMat(ch):\n",
    "    return re.findall(\"([0-9][0-9][0-9][0-9] RB+)\", ch)\n",
    "\n",
    "chaine = input(\"Entrer une chaine : \") \n",
    "\n",
    "matricule = findMat(chaine)\n",
    "\n",
    "if(len(matricule) == 0):\n",
    "    print(\"Il n'y a aucun numéro d'immatriculation du Bénin dans cette phrase.\")\n",
    "\n",
    "elif(len(matricule) == 1):\n",
    "    print(matricule[0], \"est le seul numéro d'immatriculation présente dans la chaine.\")\n",
    "    \n",
    "else:\n",
    "    print(\"Les numéros d'immatriculation présentes dans la chaine sont:\")\n",
    "    for i in matricule:\n",
    "        print(i)\n",
    "        \n",
    "        "
   ]
  },
  {
   "cell_type": "code",
   "execution_count": null,
   "id": "abc0d315",
   "metadata": {},
   "outputs": [],
   "source": []
  }
 ],
 "metadata": {
  "kernelspec": {
   "display_name": "Python 3",
   "language": "python",
   "name": "python3"
  },
  "language_info": {
   "codemirror_mode": {
    "name": "ipython",
    "version": 3
   },
   "file_extension": ".py",
   "mimetype": "text/x-python",
   "name": "python",
   "nbconvert_exporter": "python",
   "pygments_lexer": "ipython3",
   "version": "3.8.5"
  }
 },
 "nbformat": 4,
 "nbformat_minor": 5
}
